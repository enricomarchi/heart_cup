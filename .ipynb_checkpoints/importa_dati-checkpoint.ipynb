{
 "cells": [
  {
   "cell_type": "code",
   "execution_count": 1,
   "id": "9be92ae5",
   "metadata": {},
   "outputs": [],
   "source": [
    "import pandas as pd\n",
    "pd.set_option(\"display.max_columns\", None)\n",
    "atleti = pd.read_csv(\"Atleti.csv\")\n",
    "categorie = pd.read_csv(\"Categorie.csv\")\n",
    "iscrizioni = pd.read_csv(\"Iscrizioni.csv\")\n",
    "atleti.dropna(subset=[\"Nome\"], axis=0, inplace=True)\n",
    "categorie.dropna(subset=[\"Categoria\"], axis=0, inplace=True)\n",
    "atleti.to_parquet(\"atleti.parquet\")\n",
    "categorie.to_parquet(\"categorie.parquet\")\n",
    "iscrizioni.to_parquet(\"iscrizioni.parquet\")"
   ]
  },
  {
   "cell_type": "code",
   "execution_count": 17,
   "id": "9ea31fe6",
   "metadata": {
    "scrolled": false
   },
   "outputs": [],
   "source": []
  },
  {
   "cell_type": "code",
   "execution_count": null,
   "id": "1a875765",
   "metadata": {},
   "outputs": [],
   "source": []
  }
 ],
 "metadata": {
  "kernelspec": {
   "display_name": "Python 3 (ipykernel)",
   "language": "python",
   "name": "python3"
  },
  "language_info": {
   "codemirror_mode": {
    "name": "ipython",
    "version": 3
   },
   "file_extension": ".py",
   "mimetype": "text/x-python",
   "name": "python",
   "nbconvert_exporter": "python",
   "pygments_lexer": "ipython3",
   "version": "3.10.9"
  },
  "vp": {
   "vp_config_version": "1.0.0",
   "vp_menu_width": 273,
   "vp_note_display": false,
   "vp_note_width": 0,
   "vp_position": {
    "width": 278
   },
   "vp_section_display": false,
   "vp_signature": "VisualPython"
  }
 },
 "nbformat": 4,
 "nbformat_minor": 5
}
